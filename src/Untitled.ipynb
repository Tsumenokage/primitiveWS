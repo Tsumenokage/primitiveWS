{
 "cells": [
  {
   "cell_type": "code",
   "execution_count": 1,
   "metadata": {
    "collapsed": false,
    "scrolled": true
   },
   "outputs": [],
   "source": [
    "from cherry import Cherry"
   ]
  },
  {
   "cell_type": "code",
   "execution_count": 2,
   "metadata": {
    "collapsed": false
   },
   "outputs": [],
   "source": [
    "cherry = Cherry()\n",
    "cherry.setup()\n",
    "poppy = cherry.robot"
   ]
  },
  {
   "cell_type": "code",
   "execution_count": 3,
   "metadata": {
    "collapsed": true
   },
   "outputs": [],
   "source": [
    "from pypot.server.httpserver import HTTPRobotServer\n",
    "\n",
    "server = HTTPRobotServer(poppy, host='127.0.0.1', port=8080)"
   ]
  },
  {
   "cell_type": "code",
   "execution_count": 4,
   "metadata": {
    "collapsed": false
   },
   "outputs": [],
   "source": [
    "from threading import Thread\n",
    "\n",
    "Thread(target=lambda: server.run(quiet=True, server='wsgiref')).start()"
   ]
  },
  {
   "cell_type": "code",
   "execution_count": 7,
   "metadata": {
    "collapsed": false
   },
   "outputs": [
    {
     "name": "stdout",
     "output_type": "stream",
     "text": [
      "{\"motors\": [\"l_elbow_y\", \"r_elbow_y\", \"r_knee_y\", \"head_y\", \"head_z\", \"r_arm_z\", \"r_ankle_y\", \"r_shoulder_x\", \"r_shoulder_y\", \"r_hip_z\", \"r_hip_x\", \"r_hip_y\", \"l_arm_z\", \"l_hip_x\", \"l_hip_y\", \"l_hip_z\", \"abs_x\", \"abs_y\", \"abs_z\", \"l_ankle_y\", \"bust_y\", \"bust_x\", \"l_knee_y\", \"l_shoulder_x\", \"l_shoulder_y\"]}\n"
     ]
    },
    {
     "name": "stderr",
     "output_type": "stream",
     "text": [
      "  % Total    % Received % Xferd  Average Speed   Time    Time     Time  Current\n",
      "                                 Dload  Upload   Total   Spent    Left  Speed\n",
      "\n",
      "  0     0    0     0    0     0      0      0 --:--:-- --:--:-- --:--:--     0\n",
      "100   307  100   307    0     0    307      0  0:00:01 --:--:--  0:00:01  299k\n"
     ]
    },
    {
     "name": "stdout",
     "output_type": "stream",
     "text": [
      "blue\n",
      "neutral\n",
      "lightblue\n"
     ]
    }
   ],
   "source": [
    "!curl http://127.0.0.1:8080/motor/list.json"
   ]
  },
  {
   "cell_type": "code",
   "execution_count": 6,
   "metadata": {
    "collapsed": false
   },
   "outputs": [
    {
     "name": "stdout",
     "output_type": "stream",
     "text": [
      "{\"primitives\": [\"upper_body_idle\", \"arms_turn_compliant\", \"disappointment_behave\", \"take_left_ear_behave\", \"cross_arms_behave\", \"see_you_soon_behave\", \"no_behave\", \"rest_position\", \"eyes_angry_behave\", \"point_arm_left_behave\", \"open_arms_behave\", \"open_move_behave\", \"keep_front_mouv_behave\", \"hug_behave\", \"right_hand_mouv_behave\", \"laugh_behave\", \"stand_position\", \"double_me_behave\", \"think_behave\", \"upper_body_idle_motion\", \"dance_beat_motion\", \"right_hand_up_behave\", \"show_right_rest_behave\", \"left_arm_up_behave\", \"me_behave\", \"sigh_behave\", \"question_behave\", \"wave_behave\", \"eyes_behave\", \"rest_tilted_behave\", \"swap_behave\", \"little_hug_behave\", \"temperature_monitoring\", \"right_arms_behave\", \"come_mouv_behave\", \"take_head_behave\", \"you_and_me_behave\", \"hunkers_behave\", \"bow_behave\", \"take_right_ear_behave\", \"cross_hands_behave\", \"little_laugh_behave\", \"me_arm_behave\", \"show_front_hunkers_behave\", \"show_left_behave\", \"head_idle_motion\", \"show_front_behave\", \"sit_position\", \"limit_torque\", \"yes_behave\", \"copy_arm_behave\", \"salute_behave\", \"arms_copy_motion\", \"normal_behave\", \"rest_open_behave\", \"little_arms_up_behave\", \"show_right_behave\", \"eyes_happy_behave\", \"extra_arms_up\", \"head_idle\", \"left_arms_behave\"]}\n"
     ]
    },
    {
     "name": "stderr",
     "output_type": "stream",
     "text": [
      "  % Total    % Received % Xferd  Average Speed   Time    Time     Time  Current\n",
      "                                 Dload  Upload   Total   Spent    Left  Speed\n",
      "\n",
      "  0     0    0     0    0     0      0      0 --:--:-- --:--:-- --:--:--     0\n",
      "100  1230  100  1230    0     0   1230      0  0:00:01 --:--:--  0:00:01 1201k\n"
     ]
    }
   ],
   "source": [
    "!curl http://127.0.0.1:8080/primitive/list.json"
   ]
  },
  {
   "cell_type": "code",
   "execution_count": 13,
   "metadata": {
    "collapsed": false
   },
   "outputs": [
    {
     "name": "stderr",
     "output_type": "stream",
     "text": [
      "  % Total    % Received % Xferd  Average Speed   Time    Time     Time  Current\n",
      "                                 Dload  Upload   Total   Spent    Left  Speed\n",
      "\n",
      "  0     0    0     0    0     0      0      0 --:--:-- --:--:-- --:--:--     0\n",
      "  0     0    0     0    0     0      0      0 --:--:-- --:--:-- --:--:--     0\n"
     ]
    }
   ],
   "source": [
    "!curl 127.0.0.1:8080/primitive/sit_position/start.json"
   ]
  },
  {
   "cell_type": "code",
   "execution_count": 8,
   "metadata": {
    "collapsed": false
   },
   "outputs": [
    {
     "name": "stdout",
     "output_type": "stream",
     "text": [
      "{\"property\": [\"colorEye\", \"moodEye\"]}\n"
     ]
    },
    {
     "name": "stderr",
     "output_type": "stream",
     "text": [
      "  % Total    % Received % Xferd  Average Speed   Time    Time     Time  Current\n",
      "                                 Dload  Upload   Total   Spent    Left  Speed\n",
      "\n",
      "  0     0    0     0    0     0      0      0 --:--:-- --:--:-- --:--:--     0\n",
      "100    37  100    37    0     0   2312      0 --:--:-- --:--:-- --:--:--  2312\n"
     ]
    }
   ],
   "source": [
    "!curl 127.0.0.1:8080/primitive/eyes_behave/property/list.json"
   ]
  },
  {
   "cell_type": "code",
   "execution_count": null,
   "metadata": {
    "collapsed": false
   },
   "outputs": [],
   "source": []
  },
  {
   "cell_type": "code",
   "execution_count": null,
   "metadata": {
    "collapsed": true
   },
   "outputs": [],
   "source": []
  }
 ],
 "metadata": {
  "kernelspec": {
   "display_name": "Python 2",
   "language": "python",
   "name": "python2"
  },
  "language_info": {
   "codemirror_mode": {
    "name": "ipython",
    "version": 2
   },
   "file_extension": ".py",
   "mimetype": "text/x-python",
   "name": "python",
   "nbconvert_exporter": "python",
   "pygments_lexer": "ipython2",
   "version": "2.7.11"
  }
 },
 "nbformat": 4,
 "nbformat_minor": 0
}
